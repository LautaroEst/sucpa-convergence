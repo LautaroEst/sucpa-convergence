{
 "cells": [
  {
   "cell_type": "code",
   "execution_count": 10,
   "metadata": {},
   "outputs": [],
   "source": [
    "import numpy as np\n",
    "import torch\n",
    "from torch import nn\n",
    "\n",
    "path = \"../data/ex1.npy\"\n",
    "\n",
    "with open(path, 'rb') as f:\n",
    "    P = np.load(f)\n",
    "    Ns = np.load(f)"
   ]
  },
  {
   "cell_type": "code",
   "execution_count": 40,
   "metadata": {},
   "outputs": [
    {
     "name": "stdout",
     "output_type": "stream",
     "text": [
      "[[ 0.          0.        ]\n",
      " [ 0.14142656 -0.10445261]\n",
      " [ 0.15051031 -0.11197329]\n",
      " [ 0.15112734 -0.11248779]\n",
      " [ 0.15116978 -0.11252308]\n",
      " [ 0.15117264 -0.11252499]\n",
      " [ 0.15117311 -0.11252499]\n",
      " [ 0.15117311 -0.11252451]\n",
      " [ 0.15117359 -0.11252451]\n",
      " [ 0.15117359 -0.11252403]\n",
      " [ 0.15117407 -0.11252403]]\n",
      "[[0.         0.        ]\n",
      " [0.0681585  1.0000001 ]\n",
      " [0.06820678 1.0000001 ]\n",
      " [0.06820999 1.0000001 ]\n",
      " [0.06821015 1.        ]\n",
      " [0.06821031 1.        ]\n",
      " [0.06821037 1.        ]\n",
      " [0.06821038 1.0000002 ]\n",
      " [0.06821037 1.        ]\n",
      " [0.0682103  1.        ]\n",
      " [0.06821026 1.        ]]\n"
     ]
    }
   ],
   "source": [
    "class SUCPA(nn.Module):\n",
    "    \n",
    "    def __init__(self, num_classes, steps=10):\n",
    "        super().__init__()\n",
    "        self.num_classes = num_classes\n",
    "        self.steps = steps\n",
    "        self.beta = nn.Parameter(torch.zeros(num_classes), requires_grad=False)\n",
    "        self.jacobian = torch.zeros(num_classes, num_classes)\n",
    "        self.beta_history = None\n",
    "        self.jacobian_history = None\n",
    "\n",
    "    def fit(self, logits, class_samples):\n",
    "        beta_history = [self.beta.data]\n",
    "        jacobian_history = [self.jacobian]\n",
    "        for i in range(self.steps):\n",
    "            log_den = torch.logsumexp(logits + self.beta, dim=1)\n",
    "            log_sum_all = torch.logsumexp(logits.T - log_den, dim=1)\n",
    "            self.beta.data = -log_sum_all + torch.log(class_samples)\n",
    "            beta_history.append(self.beta.data)\n",
    "            \n",
    "            probs = torch.softmax(logits, dim=1)\n",
    "            exp_beta = torch.exp(self.beta)\n",
    "            den = probs @ exp_beta.unsqueeze(1)\n",
    "            probs_den = probs / den\n",
    "            self.jacobian = (probs_den.T @ torch.softmax(logits + self.beta, dim=1)) / probs_den.sum(dim=0).unsqueeze(1)\n",
    "            jacobian_history.append(self.jacobian)\n",
    "        self.beta_history = torch.stack(beta_history)\n",
    "        self.jacobian_history = torch.stack(jacobian_history)\n",
    "        return self\n",
    "    \n",
    "    def calibrate(self, logits):\n",
    "        return logits + self.beta\n",
    "\n",
    "model = SUCPA(2, steps=10)\n",
    "model.fit(torch.log(torch.from_numpy(P))-torch.rand(P.shape[0],1), torch.from_numpy(Ns))\n",
    "print(model.beta_history.numpy())\n",
    "print(np.linalg.eig(model.jacobian_history)[0])"
   ]
  },
  {
   "cell_type": "code",
   "execution_count": 4,
   "metadata": {},
   "outputs": [],
   "source": [
    "[n,C] = P.shape"
   ]
  },
  {
   "cell_type": "code",
   "execution_count": 5,
   "metadata": {},
   "outputs": [],
   "source": [
    "def UCPA(P, Ns, beta):\n",
    "    D = 1.0 / (P @ np.exp(beta))\n",
    "    S = P.T@D\n",
    "    next_beta = -np.log(S/Ns)\n",
    "    J = ((((P*np.exp(beta)).T*(D**2))@ P)/S).T\n",
    "    return next_beta, J\n",
    "    "
   ]
  },
  {
   "cell_type": "code",
   "execution_count": 6,
   "metadata": {},
   "outputs": [],
   "source": [
    "pasos = 10\n",
    "BETA = np.zeros((pasos+1,C))\n",
    "JACOBOS = np.zeros((pasos,C,C))\n",
    "for k in range(pasos):\n",
    "    BETA[k+1,:],JACOBOS[k,:,:] = UCPA(P,Ns,BETA[k,:])"
   ]
  },
  {
   "cell_type": "code",
   "execution_count": 29,
   "metadata": {},
   "outputs": [
    {
     "data": {
      "text/plain": [
       "array([[ 0.        ,  0.        ],\n",
       "       [ 0.14142656, -0.10445261],\n",
       "       [ 0.15051031, -0.11197281],\n",
       "       [ 0.15112734, -0.11248779],\n",
       "       [ 0.15116978, -0.11252308],\n",
       "       [ 0.15117264, -0.11252499],\n",
       "       [ 0.15117311, -0.11252499],\n",
       "       [ 0.15117311, -0.11252451],\n",
       "       [ 0.15117359, -0.11252451],\n",
       "       [ 0.15117359, -0.11252403],\n",
       "       [ 0.15117407, -0.11252403]], dtype=float32)"
      ]
     },
     "execution_count": 29,
     "metadata": {},
     "output_type": "execute_result"
    }
   ],
   "source": [
    "model.beta_history.numpy()"
   ]
  },
  {
   "cell_type": "code",
   "execution_count": 5,
   "metadata": {},
   "outputs": [
    {
     "data": {
      "text/plain": [
       "array([[ 0.        ,  0.        ],\n",
       "       [ 0.14142691, -0.10445262],\n",
       "       [ 0.15051016, -0.1119732 ],\n",
       "       [ 0.15112731, -0.11248815],\n",
       "       [ 0.1511694 , -0.11252328],\n",
       "       [ 0.15117227, -0.11252568],\n",
       "       [ 0.15117246, -0.11252584],\n",
       "       [ 0.15117248, -0.11252585],\n",
       "       [ 0.15117248, -0.11252585],\n",
       "       [ 0.15117248, -0.11252585],\n",
       "       [ 0.15117248, -0.11252585]])"
      ]
     },
     "execution_count": 5,
     "metadata": {},
     "output_type": "execute_result"
    }
   ],
   "source": [
    "BETA # Actualizacion de los parametros iteracion a iteracion"
   ]
  },
  {
   "cell_type": "code",
   "execution_count": 8,
   "metadata": {},
   "outputs": [
    {
     "data": {
      "text/plain": [
       "array([[0.06665432, 1.        ],\n",
       "       [0.06815863, 1.        ],\n",
       "       [0.06820681, 1.        ],\n",
       "       [0.06820985, 1.        ],\n",
       "       [0.06821005, 1.        ],\n",
       "       [0.06821006, 1.        ],\n",
       "       [0.06821007, 1.        ],\n",
       "       [0.06821007, 1.        ],\n",
       "       [0.06821007, 1.        ],\n",
       "       [0.06821007, 1.        ]])"
      ]
     },
     "execution_count": 8,
     "metadata": {},
     "output_type": "execute_result"
    }
   ],
   "source": [
    "np.linalg.eig(JACOBOS)[0] #Actualizacion de los autovalores del Jacobiano iteracion a iteracion"
   ]
  },
  {
   "cell_type": "code",
   "execution_count": 6,
   "metadata": {},
   "outputs": [
    {
     "data": {
      "text/plain": [
       "array([[0.06665432, 1.        ],\n",
       "       [0.06815863, 1.        ],\n",
       "       [0.06820681, 1.        ],\n",
       "       [0.06820985, 1.        ],\n",
       "       [0.06821005, 1.        ],\n",
       "       [0.06821006, 1.        ],\n",
       "       [0.06821007, 1.        ],\n",
       "       [0.06821007, 1.        ],\n",
       "       [0.06821007, 1.        ],\n",
       "       [0.06821007, 1.        ]])"
      ]
     },
     "execution_count": 6,
     "metadata": {},
     "output_type": "execute_result"
    }
   ],
   "source": [
    "np.linalg.eig(JACOBOS)[0] #Actualizacion de los autovalores del Jacobiano iteracion a iteracion"
   ]
  }
 ],
 "metadata": {
  "kernelspec": {
   "display_name": "Python 3",
   "language": "python",
   "name": "python3"
  },
  "language_info": {
   "codemirror_mode": {
    "name": "ipython",
    "version": 3
   },
   "file_extension": ".py",
   "mimetype": "text/x-python",
   "name": "python",
   "nbconvert_exporter": "python",
   "pygments_lexer": "ipython3",
   "version": "3.10.10"
  }
 },
 "nbformat": 4,
 "nbformat_minor": 4
}
