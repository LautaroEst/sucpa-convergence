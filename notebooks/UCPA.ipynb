{
 "cells": [
  {
   "cell_type": "code",
   "execution_count": 1,
   "metadata": {},
   "outputs": [],
   "source": [
    "path = \"./ex1.npy\"\n",
    "import numpy as np\n",
    "with open(path, 'rb') as f:\n",
    "    P = np.load(f)\n",
    "    Ns = np.load(f)"
   ]
  },
  {
   "cell_type": "code",
   "execution_count": 2,
   "metadata": {},
   "outputs": [],
   "source": [
    "[n,C] = P.shape"
   ]
  },
  {
   "cell_type": "code",
   "execution_count": 3,
   "metadata": {},
   "outputs": [],
   "source": [
    "def UCPA(P,Ns,beta):\n",
    "    D = 1.0/(P@np.exp(beta))\n",
    "    S = P.T@D\n",
    "    next_beta = -np.log(S/Ns)\n",
    "    J = ((((P*np.exp(beta)).T*(D**2))@ P)/S).T\n",
    "    return next_beta,J\n",
    "    "
   ]
  },
  {
   "cell_type": "code",
   "execution_count": 4,
   "metadata": {},
   "outputs": [],
   "source": [
    "pasos = 10\n",
    "BETA = np.zeros((pasos+1,C))\n",
    "JACOBOS = np.zeros((pasos,C,C))\n",
    "for k in range(pasos):\n",
    "    BETA[k+1,:],JACOBOS[k,:,:] = UCPA(P,Ns,BETA[k,:])"
   ]
  },
  {
   "cell_type": "code",
   "execution_count": 5,
   "metadata": {},
   "outputs": [
    {
     "data": {
      "text/plain": [
       "array([[ 0.        ,  0.        ],\n",
       "       [ 0.14142691, -0.10445262],\n",
       "       [ 0.15051016, -0.1119732 ],\n",
       "       [ 0.15112731, -0.11248815],\n",
       "       [ 0.1511694 , -0.11252328],\n",
       "       [ 0.15117227, -0.11252568],\n",
       "       [ 0.15117246, -0.11252584],\n",
       "       [ 0.15117248, -0.11252585],\n",
       "       [ 0.15117248, -0.11252585],\n",
       "       [ 0.15117248, -0.11252585],\n",
       "       [ 0.15117248, -0.11252585]])"
      ]
     },
     "execution_count": 5,
     "metadata": {},
     "output_type": "execute_result"
    }
   ],
   "source": [
    "BETA # Actualizacion de los parametros iteracion a iteracion"
   ]
  },
  {
   "cell_type": "code",
   "execution_count": 6,
   "metadata": {},
   "outputs": [
    {
     "data": {
      "text/plain": [
       "array([[0.06665432, 1.        ],\n",
       "       [0.06815863, 1.        ],\n",
       "       [0.06820681, 1.        ],\n",
       "       [0.06820985, 1.        ],\n",
       "       [0.06821005, 1.        ],\n",
       "       [0.06821006, 1.        ],\n",
       "       [0.06821007, 1.        ],\n",
       "       [0.06821007, 1.        ],\n",
       "       [0.06821007, 1.        ],\n",
       "       [0.06821007, 1.        ]])"
      ]
     },
     "execution_count": 6,
     "metadata": {},
     "output_type": "execute_result"
    }
   ],
   "source": [
    "np.linalg.eig(JACOBOS)[0] #Actualizacion de los autovalores del Jacobiano iteracion a iteracion"
   ]
  }
 ],
 "metadata": {
  "kernelspec": {
   "display_name": "Python 3",
   "language": "python",
   "name": "python3"
  },
  "language_info": {
   "codemirror_mode": {
    "name": "ipython",
    "version": 3
   },
   "file_extension": ".py",
   "mimetype": "text/x-python",
   "name": "python",
   "nbconvert_exporter": "python",
   "pygments_lexer": "ipython3",
   "version": "3.8.3"
  }
 },
 "nbformat": 4,
 "nbformat_minor": 4
}